{
 "cells": [
  {
   "cell_type": "markdown",
   "metadata": {},
   "source": [
    "자료 출처: KOSIS(통계청, 인구총조사), 2022.01.05 "
   ]
  },
  {
   "cell_type": "code",
   "execution_count": 1,
   "metadata": {},
   "outputs": [],
   "source": [
    "from __future__ import print_function\n",
    "\n",
    "import pandas as pd"
   ]
  },
  {
   "cell_type": "code",
   "execution_count": 2,
   "metadata": {},
   "outputs": [
    {
     "data": {
      "text/html": [
       "<div>\n",
       "<style scoped>\n",
       "    .dataframe tbody tr th:only-of-type {\n",
       "        vertical-align: middle;\n",
       "    }\n",
       "\n",
       "    .dataframe tbody tr th {\n",
       "        vertical-align: top;\n",
       "    }\n",
       "\n",
       "    .dataframe thead th {\n",
       "        text-align: right;\n",
       "    }\n",
       "</style>\n",
       "<table border=\"1\" class=\"dataframe\">\n",
       "  <thead>\n",
       "    <tr style=\"text-align: right;\">\n",
       "      <th></th>\n",
       "      <th>행정구역별(읍면동)</th>\n",
       "      <th>총인구 (명)</th>\n",
       "      <th>남자 (명)</th>\n",
       "      <th>여자 (명)</th>\n",
       "      <th>내국인-계 (명)</th>\n",
       "      <th>내국인-남자 (명)</th>\n",
       "      <th>내국인-여자 (명)</th>\n",
       "      <th>외국인-계 (명)</th>\n",
       "      <th>외국인-남자 (명)</th>\n",
       "      <th>외국인-여자 (명)</th>\n",
       "      <th>...</th>\n",
       "      <th>일반가구 (가구)</th>\n",
       "      <th>집단가구 (가구)</th>\n",
       "      <th>외국인가구 (가구)</th>\n",
       "      <th>주택-계 (호)</th>\n",
       "      <th>단독주택 (호)</th>\n",
       "      <th>아파트 (호)</th>\n",
       "      <th>연립주택 (호)</th>\n",
       "      <th>다세대주택 (호)</th>\n",
       "      <th>비거주용 건물내 주택 (호)</th>\n",
       "      <th>주택이외의 거처 (호)</th>\n",
       "    </tr>\n",
       "  </thead>\n",
       "  <tbody>\n",
       "    <tr>\n",
       "      <th>count</th>\n",
       "      <td>324</td>\n",
       "      <td>324</td>\n",
       "      <td>324</td>\n",
       "      <td>324</td>\n",
       "      <td>324</td>\n",
       "      <td>324</td>\n",
       "      <td>324</td>\n",
       "      <td>324</td>\n",
       "      <td>324</td>\n",
       "      <td>324</td>\n",
       "      <td>...</td>\n",
       "      <td>324</td>\n",
       "      <td>324</td>\n",
       "      <td>324</td>\n",
       "      <td>324</td>\n",
       "      <td>324</td>\n",
       "      <td>324</td>\n",
       "      <td>324</td>\n",
       "      <td>324</td>\n",
       "      <td>324</td>\n",
       "      <td>324</td>\n",
       "    </tr>\n",
       "    <tr>\n",
       "      <th>unique</th>\n",
       "      <td>261</td>\n",
       "      <td>323</td>\n",
       "      <td>321</td>\n",
       "      <td>323</td>\n",
       "      <td>323</td>\n",
       "      <td>323</td>\n",
       "      <td>323</td>\n",
       "      <td>321</td>\n",
       "      <td>309</td>\n",
       "      <td>316</td>\n",
       "      <td>...</td>\n",
       "      <td>322</td>\n",
       "      <td>173</td>\n",
       "      <td>313</td>\n",
       "      <td>321</td>\n",
       "      <td>323</td>\n",
       "      <td>321</td>\n",
       "      <td>311</td>\n",
       "      <td>319</td>\n",
       "      <td>312</td>\n",
       "      <td>315</td>\n",
       "    </tr>\n",
       "    <tr>\n",
       "      <th>top</th>\n",
       "      <td>동부</td>\n",
       "      <td>353,933</td>\n",
       "      <td>20,370</td>\n",
       "      <td>175,994</td>\n",
       "      <td>346,689</td>\n",
       "      <td>173,541</td>\n",
       "      <td>173,148</td>\n",
       "      <td>4,770</td>\n",
       "      <td>786</td>\n",
       "      <td>2,846</td>\n",
       "      <td>...</td>\n",
       "      <td>11,723</td>\n",
       "      <td>67</td>\n",
       "      <td>357</td>\n",
       "      <td>37,736</td>\n",
       "      <td>16,178</td>\n",
       "      <td>117,312</td>\n",
       "      <td>295</td>\n",
       "      <td>159</td>\n",
       "      <td>373</td>\n",
       "      <td>755</td>\n",
       "    </tr>\n",
       "    <tr>\n",
       "      <th>freq</th>\n",
       "      <td>14</td>\n",
       "      <td>2</td>\n",
       "      <td>2</td>\n",
       "      <td>2</td>\n",
       "      <td>2</td>\n",
       "      <td>2</td>\n",
       "      <td>2</td>\n",
       "      <td>2</td>\n",
       "      <td>2</td>\n",
       "      <td>4</td>\n",
       "      <td>...</td>\n",
       "      <td>2</td>\n",
       "      <td>7</td>\n",
       "      <td>3</td>\n",
       "      <td>2</td>\n",
       "      <td>2</td>\n",
       "      <td>2</td>\n",
       "      <td>3</td>\n",
       "      <td>2</td>\n",
       "      <td>2</td>\n",
       "      <td>3</td>\n",
       "    </tr>\n",
       "  </tbody>\n",
       "</table>\n",
       "<p>4 rows × 21 columns</p>\n",
       "</div>"
      ],
      "text/plain": [
       "       행정구역별(읍면동)  총인구 (명)  남자 (명)   여자 (명) 내국인-계 (명) 내국인-남자 (명) 내국인-여자 (명)  \\\n",
       "count         324      324     324      324       324        324        324   \n",
       "unique        261      323     321      323       323        323        323   \n",
       "top         　　　동부  353,933  20,370  175,994   346,689    173,541    173,148   \n",
       "freq           14        2       2        2         2          2          2   \n",
       "\n",
       "       외국인-계 (명) 외국인-남자 (명) 외국인-여자 (명)  ... 일반가구 (가구) 집단가구 (가구) 외국인가구 (가구)  \\\n",
       "count        324        324        324  ...       324       324        324   \n",
       "unique       321        309        316  ...       322       173        313   \n",
       "top        4,770        786      2,846  ...    11,723        67        357   \n",
       "freq           2          2          4  ...         2         7          3   \n",
       "\n",
       "       주택-계 (호) 단독주택 (호)  아파트 (호) 연립주택 (호) 다세대주택 (호) 비거주용 건물내 주택 (호)  \\\n",
       "count       324      324      324      324       324             324   \n",
       "unique      321      323      321      311       319             312   \n",
       "top      37,736   16,178  117,312      295       159             373   \n",
       "freq          2        2        2        3         2               2   \n",
       "\n",
       "       주택이외의 거처 (호)  \n",
       "count           324  \n",
       "unique          315  \n",
       "top             755  \n",
       "freq              3  \n",
       "\n",
       "[4 rows x 21 columns]"
      ]
     },
     "execution_count": 2,
     "metadata": {},
     "output_type": "execute_result"
    }
   ],
   "source": [
    "population_dataframe = pd.read_csv(\"data_folder/population.csv\", sep=\",\")\n",
    "population_dataframe.describe()"
   ]
  },
  {
   "cell_type": "markdown",
   "metadata": {},
   "source": [
    "+ `Dataframe.shape`을 통해 데이터프레임의 __행__ 과 __열__ 의 개수를 알 수 있다."
   ]
  },
  {
   "cell_type": "code",
   "execution_count": 3,
   "metadata": {},
   "outputs": [
    {
     "name": "stdout",
     "output_type": "stream",
     "text": [
      "(324, 21)\n",
      "RangeIndex(start=0, stop=324, step=1)\n",
      "행의 개수:  324\n",
      "Index(['행정구역별(읍면동)', '총인구 (명)', '남자 (명)', '여자 (명)', '내국인-계 (명)', '내국인-남자 (명)',\n",
      "       '내국인-여자 (명)', '외국인-계 (명)', '외국인-남자 (명)', '외국인-여자 (명)', '가구-계 (가구)',\n",
      "       '일반가구 (가구)', '집단가구 (가구)', '외국인가구 (가구)', '주택-계 (호)', '단독주택 (호)',\n",
      "       '아파트 (호)', '연립주택 (호)', '다세대주택 (호)', '비거주용 건물내 주택 (호)', '주택이외의 거처 (호)'],\n",
      "      dtype='object')\n",
      "열의 개수:  21\n"
     ]
    }
   ],
   "source": [
    "print(population_dataframe.shape)\n",
    "print(population_dataframe.index)\n",
    "print(\"행의 개수: \", len(population_dataframe.index))\n",
    "print(population_dataframe.columns)\n",
    "print(\"열의 개수: \", len(population_dataframe.columns))"
   ]
  },
  {
   "cell_type": "markdown",
   "metadata": {},
   "source": [
    "+ `iloc`, `loc`을 이용해 데이터 프레임의 특정 행을 참조할 수 있다."
   ]
  },
  {
   "cell_type": "code",
   "execution_count": 4,
   "metadata": {},
   "outputs": [
    {
     "name": "stdout",
     "output_type": "stream",
     "text": [
      "행정구역별(읍면동)                 전국\n",
      "총인구 (명)            51,829,136\n",
      "남자 (명)             25,915,207\n",
      "여자 (명)             25,913,929\n",
      "내국인-계 (명)          50,133,493\n",
      "내국인-남자 (명)         24,972,588\n",
      "내국인-여자 (명)         25,160,905\n",
      "외국인-계 (명)           1,695,643\n",
      "외국인-남자 (명)            942,619\n",
      "외국인-여자 (명)            753,024\n",
      "가구-계 (가구)          21,484,785\n",
      "일반가구 (가구)          20,926,710\n",
      "집단가구 (가구)              16,388\n",
      "외국인가구 (가구)            541,687\n",
      "주택-계 (호)           18,525,844\n",
      "단독주택 (호)            3,897,729\n",
      "아파트 (호)            11,661,851\n",
      "연립주택 (호)              521,606\n",
      "다세대주택 (호)           2,230,787\n",
      "비거주용 건물내 주택 (호)       213,871\n",
      "주택이외의 거처 (호)        1,000,903\n",
      "Name: 0, dtype: object\n"
     ]
    }
   ],
   "source": [
    "print(population_dataframe.iloc[0])"
   ]
  },
  {
   "cell_type": "markdown",
   "metadata": {},
   "source": [
    "+ `loc`에 열의 이름을 넣어서 특정 열들을 참조할 수 있다."
   ]
  },
  {
   "cell_type": "code",
   "execution_count": 5,
   "metadata": {},
   "outputs": [
    {
     "name": "stdout",
     "output_type": "stream",
     "text": [
      "0      51,829,136\n",
      "1       5,113,052\n",
      "2       4,650,781\n",
      "3      42,065,303\n",
      "4       9,586,195\n",
      "          ...    \n",
      "319       153,767\n",
      "320        35,539\n",
      "321       481,552\n",
      "322       492,306\n",
      "323       178,552\n",
      "Name: 총인구 (명), Length: 324, dtype: object\n",
      "        총인구 (명)      남자 (명)      여자 (명)\n",
      "0    51,829,136  25,915,207  25,913,929\n",
      "1     5,113,052   2,624,351   2,488,701\n",
      "2     4,650,781   2,420,392   2,230,389\n",
      "3    42,065,303  20,870,464  21,194,839\n",
      "4     9,586,195   4,647,733   4,938,462\n",
      "..          ...         ...         ...\n",
      "319     153,767      79,230      74,537\n",
      "320      35,539      18,365      17,174\n",
      "321     481,552     240,578     240,974\n",
      "322     492,306     247,474     244,832\n",
      "323     178,552      90,699      87,853\n",
      "\n",
      "[324 rows x 3 columns]\n"
     ]
    }
   ],
   "source": [
    "print(population_dataframe[\"총인구 (명)\"])\n",
    "# 열 이름의 리스트를 전달해 여러 개의 리스트를 한 번에 참조 가능\n",
    "# 모든 행(:)의 [\"총인구 (명)\", \"남자 (명)\", \"여자 (명)\"] 열들을 참조\n",
    "print(population_dataframe.loc[:, [\"총인구 (명)\", \"남자 (명)\", \"여자 (명)\"]])"
   ]
  }
 ],
 "metadata": {
  "interpreter": {
   "hash": "d101b0e5d3287d07f9629e9db810aa29bea327cea262cfd422ac36627f2ebb06"
  },
  "kernelspec": {
   "display_name": "Python 3.9.7 64-bit ('base': conda)",
   "language": "python",
   "name": "python3"
  },
  "language_info": {
   "codemirror_mode": {
    "name": "ipython",
    "version": 3
   },
   "file_extension": ".py",
   "mimetype": "text/x-python",
   "name": "python",
   "nbconvert_exporter": "python",
   "pygments_lexer": "ipython3",
   "version": "3.9.7"
  },
  "orig_nbformat": 4
 },
 "nbformat": 4,
 "nbformat_minor": 2
}
