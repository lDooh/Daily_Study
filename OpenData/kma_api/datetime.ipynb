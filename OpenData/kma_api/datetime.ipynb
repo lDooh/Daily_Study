{
 "cells": [
  {
   "cell_type": "markdown",
   "metadata": {},
   "source": [
    "+ `base_date`: 단기예보는 최근 1일 간의 자료만 제공하므로 오늘 날짜를 전달\n",
    "  + yyyymmdd 포맷의 문자열을 전달해야 한다.\n",
    "+ `base_time`: 단기예보는 1일 8회 정보를 제공한다. 기준 시간 + 10분에 API를 제공함.\n",
    "  + 0200, 0500, 0800, 1100, 1400, 1700, 2000, 2300\n",
    "  + 현재 시간이 02:10 ~ 05:09라면 base_time이 0200이 되고, 현재 시간이 05:10 ~ 08:09 라면 base_time은 0500이 된다. "
   ]
  },
  {
   "cell_type": "code",
   "execution_count": 1,
   "metadata": {},
   "outputs": [],
   "source": [
    "from datetime import datetime, timedelta"
   ]
  },
  {
   "cell_type": "code",
   "execution_count": 28,
   "metadata": {},
   "outputs": [
    {
     "name": "stdout",
     "output_type": "stream",
     "text": [
      "now:  2022-01-14 23:11:00\n",
      "년 월 일:  2022 1 14\n",
      "시간:  23\n",
      "분:  11\n",
      "초:  0\n",
      "base_date:  20220114\n",
      "base_time:  2300\n"
     ]
    }
   ],
   "source": [
    "#now = datetime.now()\n",
    "now = datetime(2022, 1, 14, 23, 11)     # 테스트용 시간\n",
    "print(\"now: \", now)\n",
    "print(\"년 월 일: \", now.year, now.month, now.day)\n",
    "print(\"시간: \", now.hour)\n",
    "print(\"분: \", now.minute)\n",
    "print(\"초: \", now.second)\n",
    "\n",
    "print(\"base_date: \", now.strftime('%Y%m%d'))\n",
    "print(\"base_time: \", now.strftime('%H00'))"
   ]
  },
  {
   "cell_type": "code",
   "execution_count": 29,
   "metadata": {},
   "outputs": [
    {
     "name": "stdout",
     "output_type": "stream",
     "text": [
      "20220114\n",
      "2300\n"
     ]
    }
   ],
   "source": [
    "# 현재 시간이 02:10 이전이면\n",
    "if now.hour < 2 or ((now.hour == 2) and now.minute <= 10):\n",
    "    base_date = (now - timedelta(days=1)).strftime('%Y%m%d')\n",
    "    base_time = \"2300\"\n",
    "else:\n",
    "    base_date = now.strftime('%Y%m%d')\n",
    "\n",
    "    if now.hour % 3 == 2:           # 2시, 5시, 8시...면 시간 그대로\n",
    "        if now.minute <= 10:\n",
    "            base_time = (now - timedelta(hours=3)).strftime('%H00')\n",
    "        else:\n",
    "            base_time = now.strftime('%H00')\n",
    "    elif now.hour % 3 == 0:         # 3시, 6시, 9시...면 시간 - 1\n",
    "        base_time = (now - timedelta(hours=1)).strftime('%H00')\n",
    "    elif now.hour % 3 == 1:         # 4시, 7시, 10시...면 시간 - 2\n",
    "        base_time = (now - timedelta(hours=2)).strftime('%H00')\n",
    "\n",
    "print(base_date)\n",
    "print(base_time)"
   ]
  },
  {
   "cell_type": "code",
   "execution_count": 30,
   "metadata": {},
   "outputs": [
    {
     "name": "stdout",
     "output_type": "stream",
     "text": [
      "20220114\n",
      "2300\n"
     ]
    }
   ],
   "source": [
    "# 현재 시간이 02:10 이전이라면\n",
    "if now.hour < 2 or (now.hour == 2 and now.minute <= 10):\n",
    "    base_date = (now - timedelta(days=1)).strftime('%Y%m%d')\n",
    "    base_time = \"2300\"\n",
    "else:\n",
    "    base_date = now.strftime('%Y%m%d')\n",
    "    # 02:11 ~ 05:10\n",
    "    if now.hour < 5 or (now.hour == 5 and now.minute < 10):\n",
    "        base_time = \"0200\"\n",
    "    # 05:11 ~ 08:10\n",
    "    elif now.hour < 8 or (now.hour == 8 and now.minute < 10):\n",
    "        base_time = \"0500\"\n",
    "    # 08:11 ~ 11:10\n",
    "    elif now.hour < 11 or (now.hour == 11 and now.minute < 10):\n",
    "        base_time = \"0800\"\n",
    "    # 11:11 ~ 14:10\n",
    "    elif now.hour < 14 or (now.hour == 14 and now.minute < 10):\n",
    "        base_time = \"1100\"\n",
    "    # 14:11 ~ 17:10\n",
    "    elif now.hour < 17 or (now.hour == 17 and now.minute < 10):\n",
    "        base_time = \"1400\"\n",
    "    # 17:11 ~ 20:10\n",
    "    elif now.hour < 20 or (now.hour == 20 and now.minute < 10):\n",
    "        base_time = \"1700\"\n",
    "    # 20:11 ~ 23:10\n",
    "    elif now.hour < 23 or (now.hour == 23 and now.minute < 10):\n",
    "        base_time = \"2000\"\n",
    "    # 23:11 ~ 23:59\n",
    "    else:\n",
    "        base_time = \"2300\"\n",
    "\n",
    "print(base_date)\n",
    "print(base_time)"
   ]
  }
 ],
 "metadata": {
  "interpreter": {
   "hash": "d101b0e5d3287d07f9629e9db810aa29bea327cea262cfd422ac36627f2ebb06"
  },
  "kernelspec": {
   "display_name": "Python 3.9.7 64-bit ('base': conda)",
   "language": "python",
   "name": "python3"
  },
  "language_info": {
   "codemirror_mode": {
    "name": "ipython",
    "version": 3
   },
   "file_extension": ".py",
   "mimetype": "text/x-python",
   "name": "python",
   "nbconvert_exporter": "python",
   "pygments_lexer": "ipython3",
   "version": "3.9.7"
  },
  "orig_nbformat": 4
 },
 "nbformat": 4,
 "nbformat_minor": 2
}
