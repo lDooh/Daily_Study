{
 "cells": [
  {
   "cell_type": "code",
   "execution_count": 2,
   "metadata": {},
   "outputs": [],
   "source": [
    "import pymysql"
   ]
  },
  {
   "cell_type": "code",
   "execution_count": 4,
   "metadata": {},
   "outputs": [],
   "source": [
    "dbdb = pymysql.connect(\n",
    "    user = '',          # 유저 이름\n",
    "    passwd = '',\n",
    "    host = '',     # 호스트 주소\n",
    "    db = '',\n",
    "    charset = 'utf8'        # 'utf-8' 입력시 오류 발생하면 '-' 제거\n",
    ")"
   ]
  },
  {
   "cell_type": "code",
   "execution_count": null,
   "metadata": {},
   "outputs": [],
   "source": [
    "#print(dbdb.is_connected())"
   ]
  },
  {
   "cell_type": "markdown",
   "metadata": {},
   "source": [
    "+ Cursor는 기본적으로 튜플 형태로 데이터를 받아온다.\n",
    "+ `pymysql.cursors.DictCursor` 를 전달해주면 딕셔너리 형태로 데이터를 받아온다."
   ]
  },
  {
   "cell_type": "code",
   "execution_count": 7,
   "metadata": {},
   "outputs": [],
   "source": [
    "# 커서 설정\n",
    "cursor = dbdb.cursor(pymysql.cursors.DictCursor)"
   ]
  },
  {
   "cell_type": "markdown",
   "metadata": {},
   "source": [
    "+ `cursor.execute()` 함수를 이용해 query를 database로 보낸다.\n",
    "+ __cursor.fetch__ 를 이용해 몇 개의 데이터(쿼리 결과)를 가져올지 지정할 수 있다.\n",
    "  + `fetchall()`: 데이터를 모두 가져옴\n",
    "  + `fetchmany(size)`: size만큼의 데이터를 가져옴\n",
    "  + `fetchone()`: 하나의 데이터만 가져옴"
   ]
  },
  {
   "cell_type": "code",
   "execution_count": null,
   "metadata": {},
   "outputs": [],
   "source": [
    "query = \"select * from student;\"\n",
    "cursor.execute(query)\n",
    "row = cursor.fetchall()\n",
    "for data in row: \n",
    "    print(data)"
   ]
  },
  {
   "cell_type": "markdown",
   "metadata": {},
   "source": [
    "+ 데이터를 수정했다면 `connect.commit()`을 해야 데이터베이스에 적용된다."
   ]
  },
  {
   "cell_type": "code",
   "execution_count": 9,
   "metadata": {},
   "outputs": [],
   "source": [
    "dbdb.commit()"
   ]
  },
  {
   "cell_type": "code",
   "execution_count": 10,
   "metadata": {},
   "outputs": [],
   "source": [
    "# Cursor와 Connection 닫기\n",
    "dbdb.close()\n",
    "cursor.close()"
   ]
  }
 ],
 "metadata": {
  "interpreter": {
   "hash": "d101b0e5d3287d07f9629e9db810aa29bea327cea262cfd422ac36627f2ebb06"
  },
  "kernelspec": {
   "display_name": "Python 3.9.7 64-bit ('base': conda)",
   "language": "python",
   "name": "python3"
  },
  "language_info": {
   "codemirror_mode": {
    "name": "ipython",
    "version": 3
   },
   "file_extension": ".py",
   "mimetype": "text/x-python",
   "name": "python",
   "nbconvert_exporter": "python",
   "pygments_lexer": "ipython3",
   "version": "3.9.7"
  },
  "orig_nbformat": 4
 },
 "nbformat": 4,
 "nbformat_minor": 2
}
